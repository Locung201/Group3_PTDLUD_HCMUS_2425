{
 "cells": [
  {
   "cell_type": "markdown",
   "metadata": {},
   "source": [
    "## <span style=\"background-color: #D3D3D3; font-weight: bold;\">Giai đoạn 3: Phân tích mối tương quan giữa các biến (Correlation)"
   ]
  },
  {
   "cell_type": "markdown",
   "metadata": {},
   "source": [
    "<style>\n",
    "    body {\n",
    "        margin: 0;\n",
    "        font-family: Arial, sans-serif;\n",
    "    }\n",
    "    h2 {\n",
    "        color: #4CAF50;\n",
    "        text-align: center;\n",
    "        font-size: 26px;\n",
    "    }\n",
    "    table {\n",
    "        width: 80%;\n",
    "        margin: 50px auto; /* Căn giữa bảng */\n",
    "        border-collapse: collapse;\n",
    "        font-size: 20px;\n",
    "    }\n",
    "    th, td {\n",
    "        border: 1px solid #dddddd;\n",
    "        text-align: center;\n",
    "        padding: 15px;\n",
    "    }\n",
    "    th {\n",
    "        background-color: #4CAF50;\n",
    "        color: white;\n",
    "        font-size: 22px;\n",
    "    }\n",
    "    tr:nth-child(even) {\n",
    "        background-color: #f9f9f9;\n",
    "    }\n",
    "    tr:nth-child(odd) {\n",
    "        background-color: #ffffff;\n",
    "    }\n",
    "    .icon {\n",
    "        color: #4CAF50;\n",
    "        font-size: 22px;\n",
    "        margin-right: 8px;\n",
    "    }\n",
    "    a {\n",
    "        text-decoration: none;\n",
    "        color: #4CAF50;\n",
    "    }\n",
    "</style>\n",
    "\n",
    "<h2>Nhóm 3 - CSC12110 - PTDLUD</h2>\n",
    "\n",
    "<table>\n",
    "    <tr>\n",
    "        <th>MSSV</th>\n",
    "        <th>Họ Tên</th>\n",
    "        <th>Email</th>\n",
    "    </tr>\n",
    "    <tr>\n",
    "        <td>18127008</td>\n",
    "        <td><i class=\"icon\">👨‍💻</i> Lê Mạnh Hoàng</td>\n",
    "        <td><a href=\"mailto:lmhoang18@clc.fitus.edu.vn\">lmhoang18@clc.fitus.edu.vn</a></td>\n",
    "    </tr>\n",
    "    <tr>\n",
    "        <td>21127211</td>\n",
    "        <td><i class=\"icon\">👩‍💻</i> Nguyễn Vũ Tường An</td>\n",
    "        <td><a href=\"mailto:nvtan21@clc.fitus.edu.vn\">nvtan21@clc.fitus.edu.vn</a></td>\n",
    "    </tr>\n",
    "    <tr>\n",
    "        <td>21127699</td>\n",
    "        <td><i class=\"icon\">👩‍💻</i> Lô Thủy Tiên</td>\n",
    "        <td><a href=\"mailto:lttien21@clc.fitus.edu.vn\">lttien21@clc.fitus.edu.vn</a></td>\n",
    "    </tr>\n",
    "</table>\n"
   ]
  },
  {
   "cell_type": "code",
   "execution_count": 26,
   "metadata": {},
   "outputs": [],
   "source": [
    "# Import các thư viện cần thiết\n",
    "import numpy as np\n",
    "import pandas as pd\n",
    "import matplotlib.pyplot as plt\n",
    "import seaborn as sns\n",
    "from scipy import stats\n",
    "from sklearn.model_selection import train_test_split, cross_val_score, KFold\n",
    "from sklearn.preprocessing import StandardScaler, LabelEncoder\n",
    "from sklearn.impute import SimpleImputer\n",
    "from sklearn.ensemble import RandomForestClassifier, RandomForestRegressor\n",
    "from sklearn.linear_model import LogisticRegression\n",
    "from sklearn.neighbors import KNeighborsClassifier\n",
    "from sklearn.metrics import (\n",
    "    accuracy_score,\n",
    "    classification_report,\n",
    "    confusion_matrix,\n",
    "    roc_auc_score,\n",
    "    roc_curve,\n",
    "    mean_squared_error,\n",
    ")\n",
    "from sklearn import metrics\n",
    "import time\n",
    "from sklearn.inspection import permutation_importance\n",
    "\n",
    "data = pd.read_excel(\"cleaned_2425_QC.xlsx\")"
   ]
  },
  {
   "cell_type": "code",
   "execution_count": 19,
   "metadata": {},
   "outputs": [
    {
     "name": "stdout",
     "output_type": "stream",
     "text": [
      "Some top rows of the data:\n"
     ]
    },
    {
     "data": {
      "text/html": [
       "<div>\n",
       "<style scoped>\n",
       "    .dataframe tbody tr th:only-of-type {\n",
       "        vertical-align: middle;\n",
       "    }\n",
       "\n",
       "    .dataframe tbody tr th {\n",
       "        vertical-align: top;\n",
       "    }\n",
       "\n",
       "    .dataframe thead th {\n",
       "        text-align: right;\n",
       "    }\n",
       "</style>\n",
       "<table border=\"1\" class=\"dataframe\">\n",
       "  <thead>\n",
       "    <tr style=\"text-align: right;\">\n",
       "      <th></th>\n",
       "      <th>Age</th>\n",
       "      <th>Area Income</th>\n",
       "      <th>Daily Internet Usage</th>\n",
       "      <th>Ad Topic Line</th>\n",
       "      <th>City</th>\n",
       "      <th>Male</th>\n",
       "      <th>Country</th>\n",
       "      <th>Timestamp</th>\n",
       "      <th>Clicked on Ad</th>\n",
       "    </tr>\n",
       "  </thead>\n",
       "  <tbody>\n",
       "    <tr>\n",
       "      <th>0</th>\n",
       "      <td>35</td>\n",
       "      <td>61833.90</td>\n",
       "      <td>256.09</td>\n",
       "      <td>Cloned 5thgeneration orchestration</td>\n",
       "      <td>Wrightburgh</td>\n",
       "      <td>0</td>\n",
       "      <td>Tunisia</td>\n",
       "      <td>27/03/2016 00:53</td>\n",
       "      <td>0</td>\n",
       "    </tr>\n",
       "    <tr>\n",
       "      <th>1</th>\n",
       "      <td>31</td>\n",
       "      <td>68441.85</td>\n",
       "      <td>193.77</td>\n",
       "      <td>Monitored national standardization</td>\n",
       "      <td>West Jodi</td>\n",
       "      <td>1</td>\n",
       "      <td>Nauru</td>\n",
       "      <td>04/04/2016 01:39</td>\n",
       "      <td>0</td>\n",
       "    </tr>\n",
       "    <tr>\n",
       "      <th>2</th>\n",
       "      <td>26</td>\n",
       "      <td>59785.94</td>\n",
       "      <td>236.50</td>\n",
       "      <td>Organic bottom-line service-desk</td>\n",
       "      <td>Davidton</td>\n",
       "      <td>0</td>\n",
       "      <td>San Marino</td>\n",
       "      <td>13/03/2016 20:35</td>\n",
       "      <td>0</td>\n",
       "    </tr>\n",
       "    <tr>\n",
       "      <th>3</th>\n",
       "      <td>29</td>\n",
       "      <td>54806.18</td>\n",
       "      <td>245.89</td>\n",
       "      <td>Triple-buffered reciprocal time-frame</td>\n",
       "      <td>West Terrifurt</td>\n",
       "      <td>1</td>\n",
       "      <td>Italy</td>\n",
       "      <td>10/01/2016 02:31</td>\n",
       "      <td>0</td>\n",
       "    </tr>\n",
       "    <tr>\n",
       "      <th>4</th>\n",
       "      <td>35</td>\n",
       "      <td>73889.99</td>\n",
       "      <td>225.58</td>\n",
       "      <td>Robust logistical utilization</td>\n",
       "      <td>South Manuel</td>\n",
       "      <td>0</td>\n",
       "      <td>Iceland</td>\n",
       "      <td>03/06/2016 03:36</td>\n",
       "      <td>0</td>\n",
       "    </tr>\n",
       "  </tbody>\n",
       "</table>\n",
       "</div>"
      ],
      "text/plain": [
       "   Age  Area Income  Daily Internet Usage  \\\n",
       "0   35     61833.90                256.09   \n",
       "1   31     68441.85                193.77   \n",
       "2   26     59785.94                236.50   \n",
       "3   29     54806.18                245.89   \n",
       "4   35     73889.99                225.58   \n",
       "\n",
       "                           Ad Topic Line            City  Male     Country  \\\n",
       "0     Cloned 5thgeneration orchestration     Wrightburgh     0     Tunisia   \n",
       "1     Monitored national standardization       West Jodi     1       Nauru   \n",
       "2       Organic bottom-line service-desk        Davidton     0  San Marino   \n",
       "3  Triple-buffered reciprocal time-frame  West Terrifurt     1       Italy   \n",
       "4          Robust logistical utilization    South Manuel     0     Iceland   \n",
       "\n",
       "          Timestamp  Clicked on Ad  \n",
       "0  27/03/2016 00:53              0  \n",
       "1  04/04/2016 01:39              0  \n",
       "2  13/03/2016 20:35              0  \n",
       "3  10/01/2016 02:31              0  \n",
       "4  03/06/2016 03:36              0  "
      ]
     },
     "execution_count": 19,
     "metadata": {},
     "output_type": "execute_result"
    }
   ],
   "source": [
    "print(\"Some top rows of the data:\")\n",
    "data.head()"
   ]
  },
  {
   "cell_type": "markdown",
   "metadata": {},
   "source": [
    "<h2 style=\"color: #4CAF50;\">1 K-Nearest_Neighbors(KNN).</h2>"
   ]
  },
  {
   "cell_type": "code",
   "execution_count": 20,
   "metadata": {},
   "outputs": [
    {
     "name": "stdout",
     "output_type": "stream",
     "text": [
      "Some top rows of the data:\n"
     ]
    },
    {
     "data": {
      "text/html": [
       "<div>\n",
       "<style scoped>\n",
       "    .dataframe tbody tr th:only-of-type {\n",
       "        vertical-align: middle;\n",
       "    }\n",
       "\n",
       "    .dataframe tbody tr th {\n",
       "        vertical-align: top;\n",
       "    }\n",
       "\n",
       "    .dataframe thead th {\n",
       "        text-align: right;\n",
       "    }\n",
       "</style>\n",
       "<table border=\"1\" class=\"dataframe\">\n",
       "  <thead>\n",
       "    <tr style=\"text-align: right;\">\n",
       "      <th></th>\n",
       "      <th>Age</th>\n",
       "      <th>Area Income</th>\n",
       "      <th>Daily Internet Usage</th>\n",
       "      <th>Ad Topic Line</th>\n",
       "      <th>City</th>\n",
       "      <th>Male</th>\n",
       "      <th>Country</th>\n",
       "      <th>Timestamp</th>\n",
       "      <th>Clicked on Ad</th>\n",
       "      <th>Time_of_Day</th>\n",
       "      <th>Ad Topic Keywords</th>\n",
       "    </tr>\n",
       "  </thead>\n",
       "  <tbody>\n",
       "    <tr>\n",
       "      <th>0</th>\n",
       "      <td>35</td>\n",
       "      <td>61833.90</td>\n",
       "      <td>256.09</td>\n",
       "      <td>91</td>\n",
       "      <td>961</td>\n",
       "      <td>0</td>\n",
       "      <td>215</td>\n",
       "      <td>2016-03-27 00:53:00</td>\n",
       "      <td>0</td>\n",
       "      <td>3</td>\n",
       "      <td>47</td>\n",
       "    </tr>\n",
       "    <tr>\n",
       "      <th>1</th>\n",
       "      <td>31</td>\n",
       "      <td>68441.85</td>\n",
       "      <td>193.77</td>\n",
       "      <td>464</td>\n",
       "      <td>903</td>\n",
       "      <td>1</td>\n",
       "      <td>147</td>\n",
       "      <td>2016-04-04 01:39:00</td>\n",
       "      <td>0</td>\n",
       "      <td>3</td>\n",
       "      <td>652</td>\n",
       "    </tr>\n",
       "    <tr>\n",
       "      <th>2</th>\n",
       "      <td>26</td>\n",
       "      <td>59785.94</td>\n",
       "      <td>236.50</td>\n",
       "      <td>566</td>\n",
       "      <td>111</td>\n",
       "      <td>0</td>\n",
       "      <td>184</td>\n",
       "      <td>2016-03-13 20:35:00</td>\n",
       "      <td>0</td>\n",
       "      <td>3</td>\n",
       "      <td>142</td>\n",
       "    </tr>\n",
       "    <tr>\n",
       "      <th>3</th>\n",
       "      <td>29</td>\n",
       "      <td>54806.18</td>\n",
       "      <td>245.89</td>\n",
       "      <td>903</td>\n",
       "      <td>939</td>\n",
       "      <td>1</td>\n",
       "      <td>103</td>\n",
       "      <td>2016-01-10 02:31:00</td>\n",
       "      <td>0</td>\n",
       "      <td>3</td>\n",
       "      <td>736</td>\n",
       "    </tr>\n",
       "    <tr>\n",
       "      <th>4</th>\n",
       "      <td>35</td>\n",
       "      <td>73889.99</td>\n",
       "      <td>225.58</td>\n",
       "      <td>766</td>\n",
       "      <td>805</td>\n",
       "      <td>0</td>\n",
       "      <td>96</td>\n",
       "      <td>2016-06-03 03:36:00</td>\n",
       "      <td>0</td>\n",
       "      <td>3</td>\n",
       "      <td>557</td>\n",
       "    </tr>\n",
       "  </tbody>\n",
       "</table>\n",
       "</div>"
      ],
      "text/plain": [
       "   Age  Area Income  Daily Internet Usage  Ad Topic Line  City  Male  Country  \\\n",
       "0   35     61833.90                256.09             91   961     0      215   \n",
       "1   31     68441.85                193.77            464   903     1      147   \n",
       "2   26     59785.94                236.50            566   111     0      184   \n",
       "3   29     54806.18                245.89            903   939     1      103   \n",
       "4   35     73889.99                225.58            766   805     0       96   \n",
       "\n",
       "            Timestamp  Clicked on Ad  Time_of_Day  Ad Topic Keywords  \n",
       "0 2016-03-27 00:53:00              0            3                 47  \n",
       "1 2016-04-04 01:39:00              0            3                652  \n",
       "2 2016-03-13 20:35:00              0            3                142  \n",
       "3 2016-01-10 02:31:00              0            3                736  \n",
       "4 2016-06-03 03:36:00              0            3                557  "
      ]
     },
     "execution_count": 20,
     "metadata": {},
     "output_type": "execute_result"
    }
   ],
   "source": [
    "# Chọn file CSV trên máy tính\n",
    "\n",
    "# Thay đường dẫn này bằng đường dẫn đến file\n",
    "file_path = \"D:/lolo/lo hc/DA/cleaned_EDA_2425_QC.xlsx\"\n",
    "\n",
    "# Đọc dữ liệu từ file Excel\n",
    "df = pd.read_excel(file_path)\n",
    "\n",
    "# Hiển thị vài dòng đầu tiên\n",
    "print(\"Some top rows of the data:\")\n",
    "df.head()"
   ]
  },
  {
   "cell_type": "markdown",
   "metadata": {},
   "source": [
    "<span style=\"background-color: #D3D3D3; font-weight: bold;\">a. Chuẩn bị dữ liệu</span>"
   ]
  },
  {
   "cell_type": "code",
   "execution_count": 21,
   "metadata": {},
   "outputs": [
    {
     "data": {
      "text/plain": [
       "Index(['Age', 'Area Income', 'Daily Internet Usage', 'Ad Topic Line', 'City',\n",
       "       'Male', 'Country', 'Timestamp', 'Clicked on Ad', 'Time_of_Day',\n",
       "       'Ad Topic Keywords'],\n",
       "      dtype='object')"
      ]
     },
     "execution_count": 21,
     "metadata": {},
     "output_type": "execute_result"
    }
   ],
   "source": [
    "#Check the column names\n",
    "df.columns"
   ]
  },
  {
   "cell_type": "code",
   "execution_count": 22,
   "metadata": {},
   "outputs": [],
   "source": [
    "# X = Columns as Features\n",
    "X = df[['Age', 'Area Income', 'Daily Internet Usage', 'Ad Topic Line', 'City','Male', 'Country', 'Ad Topic Keywords']]\n",
    "# y = 'Clicked on Ad' as Target Variable\n",
    "y = df['Clicked on Ad']"
   ]
  },
  {
   "cell_type": "markdown",
   "metadata": {},
   "source": [
    "**Train Test Split**\n",
    "\n",
    "Bây giờ chúng ta sẽ phân tách dữ liệu thành một tập huấn luyện (training) và một tập kiểm tra (testing )."
   ]
  },
  {
   "cell_type": "code",
   "execution_count": 23,
   "metadata": {},
   "outputs": [
    {
     "name": "stdout",
     "output_type": "stream",
     "text": [
      "X Train Shape: (700, 8)\n",
      "X Validation Shape: (300, 8)\n",
      "y Train Shape: (700,)\n",
      "y Validation Shape: (300,)\n"
     ]
    }
   ],
   "source": [
    "# Chia dữ liệu thành tập huấn luyện và kiểm tra\n",
    "X_train, X_test, y_train, y_test = train_test_split(X, y, test_size=0.3, random_state=42)\n",
    "\n",
    "print(f'X Train Shape: {X_train.shape}')\n",
    "print(f'X Validation Shape: {X_test.shape}')\n",
    "print(f'y Train Shape: {y_train.shape}')\n",
    "print(f'y Validation Shape: {y_test.shape}')"
   ]
  },
  {
   "cell_type": "markdown",
   "metadata": {},
   "source": [
    "*Tỷ lệ phân chia dữ liệu là 70% cho tập huấn luyện và 30% cho tập kiểm tra*"
   ]
  },
  {
   "cell_type": "markdown",
   "metadata": {},
   "source": [
    "<span style=\"background-color: #D3D3D3; font-weight: bold;\">b. K Nearest Neighbors</span>"
   ]
  },
  {
   "cell_type": "markdown",
   "metadata": {},
   "source": [
    "<p style=\"color: #333333; font-size: 20px;\">\n",
    "    <strong>1. Kiểm tra cách độ chính xác thay đổi khi k thay đổi, từ đó chọn giá trị k tối ưu dựa trên hiệu suất:</strong><br>\n",
    "    <ul style=\"margin-left: 16px;\">\n",
    "        <li>Nếu k quá nhỏ, mô hình dễ bị <strong>overfitting</strong> (nhạy cảm với nhiễu).</li>\n",
    "        <li>Nếu k quá lớn, mô hình dễ bị <strong>underfitting</strong> (mất chi tiết của dữ liệu).</li>\n",
    "    </ul>\n",
    "</p>\n"
   ]
  },
  {
   "cell_type": "code",
   "execution_count": 24,
   "metadata": {},
   "outputs": [
    {
     "data": {
      "image/png": "[encoded data removed]",
      "text/plain": [
       "<Figure size 640x480 with 1 Axes>"
      ]
     },
     "metadata": {},
     "output_type": "display_data"
    }
   ],
   "source": [
    "knn_scores = {}\n",
    "\n",
    "for k in range(1, 30):\n",
    "    knn_clf = KNeighborsClassifier(k)\n",
    "    knn_clf.fit(X_train, y_train)\n",
    "    knn_scores[k] = knn_clf.score(X_train, y_train)\n",
    "\n",
    "# Vẽ biểu đồ để kiểm tra hiệu suất theo giá trị k\n",
    "plt.plot(knn_scores.keys(), knn_scores.values())\n",
    "plt.xlabel(\"k (Số láng giềng)\")\n",
    "plt.ylabel(\"Accuracy trên tập train\")\n",
    "plt.title(\"Hiệu suất mô hình kNN theo giá trị k\")\n",
    "plt.show()\n"
   ]
  },
  {
   "cell_type": "markdown",
   "metadata": {},
   "source": [
    "<p style=\"color: #333333; font-size: 16px;\">\n",
    "    Nhìn vào biểu đồ, có vẻ như <strong>1-nearest neighbors</strong> sẽ là lựa chọn tốt nhất. Tuy nhiên, điều này có thể dẫn đến <strong>overfitting</strong>. Đối với các tập dữ liệu tổng quát hơn, có thể <strong>5-nearest neighbors</strong> sẽ là lựa chọn an toàn hơn.\n",
    "</p>\n"
   ]
  },
  {
   "cell_type": "code",
   "execution_count": 27,
   "metadata": {},
   "outputs": [
    {
     "name": "stdout",
     "output_type": "stream",
     "text": [
      "Training Accuracy : 0.73\n",
      "Validation Accuracy : 0.6833333333333333\n",
      "\n",
      "AUC: 0.6860434086461483\n",
      "Time Elapsed: 0.003826141357421875 seconds\n",
      "              precision    recall  f1-score   support\n",
      "\n",
      "           0       0.64      0.79      0.71       146\n",
      "           1       0.74      0.58      0.65       154\n",
      "\n",
      "    accuracy                           0.68       300\n",
      "   macro avg       0.69      0.69      0.68       300\n",
      "weighted avg       0.69      0.68      0.68       300\n",
      "\n"
     ]
    }
   ],
   "source": [
    "# Khởi tạo và huấn luyện mô hình KNN\n",
    "knn = KNeighborsClassifier(n_neighbors = 5)\n",
    "\n",
    "knn_time = time.time()\n",
    "knn_clf.fit(X_train, y_train)\n",
    "knn_time = time.time() - knn_time\n",
    "\n",
    "# Đánh giá mô hình với AUC\n",
    "knn_auc = roc_auc_score(y_test, knn_clf.predict(X_test))\n",
    "# Lấy Feature Importance\n",
    "\n",
    "# Accuracy trên tập huấn luyện và tập kiểm tra\n",
    "score_train = knn_clf.score(X_train, y_train)\n",
    "print('Training Accuracy : ' + str(score_train))\n",
    "\n",
    "score_valid = knn_clf.score(X_test, y_test)\n",
    "print('Validation Accuracy : ' + str(score_valid))\n",
    "\n",
    "print()\n",
    "print(f'AUC: {knn_auc}')\n",
    "print(f'Time Elapsed: {knn_time} seconds')\n",
    "print(classification_report(y_test, knn_clf.predict(X_test)))"
   ]
  },
  {
   "cell_type": "markdown",
   "metadata": {},
   "source": [
    "<h2 style=\"color: #4CAF50;\">Nhận xét tổng quan</h2>\n",
    "<p style=\"color: #333333; font-size: 16px;\">\n",
    "    <strong>1. Training Accuracy:</strong> 0.73 - Mô hình có độ chính xác khá cao trên tập huấn luyện.<br>\n",
    "    <strong>2. Validation Accuracy:</strong> 0.68 - Độ chính xác trên tập kiểm tra là 68%, có sự chênh lệch giữa training accuracy và validation accuracy, có thể do overfitting.<br>\n",
    "    <strong>3. AUC:</strong> 0.686 - AUC cho thấy mô hình phân biệt giữa các lớp không tốt.<br>\n",
    "    <strong>4. Classification Report:</strong><br>\n",
    "    <strong>Precision:</strong> Lớp 0 (Not Clicked) 0.64, lớp 1 (Clicked) 0.74. Mô hình chính xác hơn với lớp \"Clicked\".<br>\n",
    "    <strong>Recall:</strong> Lớp 0 (Not Clicked) 0.79, lớp 1 (Clicked) 0.58. Mô hình nhận diện tốt lớp \"Not Clicked\", nhưng chưa tốt với lớp \"Clicked\".<br>\n",
    "    <strong>F1-Score:</strong> Lớp 0 (Not Clicked) 0.71, lớp 1 (Clicked) 0.65. Sự chênh lệch giữa các lớp cho thấy sự không cân bằng trong phân phối dữ liệu.<br>\n",
    "    <strong>Accuracy:</strong> Tổng thể: 0.68, có thể chấp nhận được nếu dữ liệu không đồng đều hoặc mô hình chưa tối ưu.\n",
    "</p>\n",
    "<p style=\"color: #333333; font-size: 16px;\">\n",
    "<h2 style=\"color: #4CAF50;\">Kết luận:</h2>\n",
    "<p style=\"color: #333333; font-size: 16px;\">\n",
    "    Mô hình KNN đạt được độ chính xác khá tốt trên tập huấn luyện nhưng vẫn còn một chút overfitting do chênh lệch giữa training accuracy và validation accuracy.<br>\n",
    "    AUC ở mức vừa phải, chỉ ra rằng mô hình không phân biệt rõ ràng giữa các lớp.<br>\n",
    "    Precision và Recall cho thấy rằng mô hình có thể cải thiện khả năng nhận diện các trường hợp \"Clicked\" (lớp 1).\n",
    "</p>\n"
   ]
  },
  {
   "cell_type": "code",
   "execution_count": 28,
   "metadata": {},
   "outputs": [
    {
     "name": "stdout",
     "output_type": "stream",
     "text": [
      "Feature Importances (Permutation Importance):\n",
      "                Feature  Importance\n",
      "1           Area Income    0.186000\n",
      "3         Ad Topic Line    0.000667\n",
      "0                   Age    0.000000\n",
      "2  Daily Internet Usage    0.000000\n",
      "5                  Male    0.000000\n",
      "6               Country    0.000000\n",
      "4                  City   -0.002667\n",
      "7     Ad Topic Keywords   -0.006000\n"
     ]
    },
    {
     "name": "stderr",
     "output_type": "stream",
     "text": [
      "C:\\Users\\Nguyen\\AppData\\Local\\Temp\\ipykernel_9576\\3028549952.py:16: FutureWarning: \n",
      "\n",
      "Passing `palette` without assigning `hue` is deprecated and will be removed in v0.14.0. Assign the `y` variable to `hue` and set `legend=False` for the same effect.\n",
      "\n",
      "  sns.barplot(data=feature_importance_knn_df, x='Importance', y='Feature', palette='pastel')\n"
     ]
    },
    {
     "data": {
      "image/png": "[encoded data removed]",
      "text/plain": [
       "<Figure size 800x600 with 1 Axes>"
      ]
     },
     "metadata": {},
     "output_type": "display_data"
    }
   ],
   "source": [
    "# Tính Permutation Importance\n",
    "perm_importance = permutation_importance(knn_clf, X_test, y_test, scoring='accuracy')\n",
    "\n",
    "# Tạo DataFrame để hiển thị kết quả\n",
    "feature_importance_knn_df = pd.DataFrame({\n",
    "    'Feature': X_train.columns,\n",
    "    'Importance': perm_importance.importances_mean\n",
    "}).sort_values(by='Importance', ascending=False)\n",
    "\n",
    "# Hiển thị bảng feature importance\n",
    "print(\"Feature Importances (Permutation Importance):\")\n",
    "print(feature_importance_knn_df)\n",
    "\n",
    "# Vẽ biểu đồ\n",
    "plt.figure(figsize=(8, 6))\n",
    "sns.barplot(data=feature_importance_knn_df, x='Importance', y='Feature', palette='pastel')\n",
    "plt.title('Feature Importances for KNN (Permutation Importance)')\n",
    "plt.xlabel('Mean Importance')\n",
    "plt.ylabel('Feature')\n",
    "plt.tight_layout()\n",
    "plt.show()"
   ]
  },
  {
   "cell_type": "markdown",
   "metadata": {},
   "source": [
    "<h2 style=\"color: #4CAF50;\">Kết luận</h2>\n",
    "<ol style=\"color: #333333; font-size: 18px; line-height: 1.8;\">\n",
    "    <li>\n",
    "        <strong>Thu nhập có vai trò quan trọng nhất:</strong> \n",
    "        <br> \n",
    "        <span style=\"margin-left: 20px;\">Area Income là đặc trưng quan trọng nhất, với giá trị <em>Permutation Importance</em> cao nhất (<strong>0.186000</strong>).</span>\n",
    "    </li>\n",
    "    <li>\n",
    "        <strong>Nội dung quảng cáo chỉ ảnh hưởng nhỏ:</strong> \n",
    "        <br> \n",
    "        <span style=\"margin-left: 20px;\">Ad Topic Line có mức ảnh hưởng nhỏ (<strong>0.000667</strong>). Điều này cho thấy dòng tiêu đề quảng cáo (hoặc nội dung liên quan) không phải là yếu tố chính để người dùng quyết định nhấp chuột.</span>\n",
    "    </li>\n",
    "    <li>\n",
    "        <strong>Các đặc trưng không quan trọng hoặc gây nhiễu:</strong> \n",
    "        <br>\n",
    "        <span style=\"margin-left: 20px;\">Các đặc trưng như:</span>\n",
    "        <ul style=\"margin-left: 40px;\">\n",
    "            <li>Age</li>\n",
    "            <li>Daily Internet Usage</li>\n",
    "            <li>Male</li>\n",
    "            <li>Country</li>\n",
    "        </ul>\n",
    "        <span style=\"margin-left: 20px;\">không có ảnh hưởng đáng kể (<em>Permutation Importance = 0.000000</em>).</span>\n",
    "        <br>\n",
    "        <span style=\"margin-left: 20px;\">City và Ad Topic Keywords thậm chí có ảnh hưởng tiêu cực (giảm hiệu suất mô hình khi giữ nguyên).</span>\n",
    "    </li>\n",
    "</ol>\n",
    "\n",
    "<h3 style=\"color: #4CAF50;\">Kết luận liên quan đến dự đoán \"Clicked on Ads\"</h3>\n",
    "<p style=\"color: #333333; font-size: 18px; line-height: 1.8;\">\n",
    "    Để dự đoán <strong>\"Clicked on Ads\"</strong>, đặc trưng <strong>Area Income</strong> đóng vai trò chủ chốt và là yếu tố quan trọng nhất. \n",
    "    <br><br>\n",
    "    Các đặc trưng như <strong>City</strong> hoặc <strong>Ad Topic Keywords</strong> không có ý nghĩa trong bài toán này và nên được xem xét loại bỏ.\n",
    "    <br><br>\n",
    "    Hành vi nhấp chuột phụ thuộc nhiều vào yếu tố tài chính của người dùng hơn là nhân khẩu học hoặc nội dung quảng cáo. Điều này có thể giúp doanh nghiệp tập trung vào việc tối ưu hóa quảng cáo nhắm mục tiêu theo phân khúc thu nhập.\n",
    "</p>\n"
   ]
  },
  {
   "cell_type": "markdown",
   "metadata": {},
   "source": [
    "<h2 style=\"color: #4CAF50;\">2.Linear Regressor.</h2>"
   ]
  },
  {
   "cell_type": "code",
   "execution_count": 36,
   "metadata": {},
   "outputs": [],
   "source": [
    "# Preprocess the data\n",
    "# drop 'Timestamp' column for now as it's not needed for prediction\n",
    "logistic_data = data.drop(columns=['Timestamp'])\n",
    "\n",
    "object_columns_log = logistic_data.select_dtypes(include=['object']).columns\n",
    "label_encoders = {}\n",
    "for col in object_columns_log:\n",
    "    le = LabelEncoder()\n",
    "    logistic_data[col] = le.fit_transform(logistic_data[col])\n",
    "    label_encoders[col] = le\n",
    "\n",
    "# Split the data into features and target variable\n",
    "X = logistic_data.drop(columns=['Clicked on Ad'])\n",
    "y = logistic_data['Clicked on Ad']\n",
    "\n",
    "# Standardize the features\n",
    "scaler = StandardScaler()\n",
    "X_scaled = scaler.fit_transform(X)\n",
    "\n",
    "# Split the data into training and testing sets\n",
    "X_train, X_test, y_train, y_test = train_test_split(X_scaled, y, test_size=0.3, random_state=42)"
   ]
  },
  {
   "cell_type": "code",
   "execution_count": 37,
   "metadata": {},
   "outputs": [
    {
     "name": "stdout",
     "output_type": "stream",
     "text": [
      "Logistic Regression Accuracy (all features): 0.8933333333333333\n",
      "Classification Report for Logistic Regression (all features):\n",
      "               precision    recall  f1-score   support\n",
      "\n",
      "           0       0.87      0.92      0.89       146\n",
      "           1       0.92      0.87      0.89       154\n",
      "\n",
      "    accuracy                           0.89       300\n",
      "   macro avg       0.89      0.89      0.89       300\n",
      "weighted avg       0.89      0.89      0.89       300\n",
      "\n"
     ]
    }
   ],
   "source": [
    "# Khởi tạo và huấn luyện Logistic Regression\n",
    "log_reg = LogisticRegression(max_iter=1000)\n",
    "log_reg.fit(X_train, y_train)\n",
    "\n",
    "# Dự đoán trên tập kiểm tra\n",
    "y_pred_log_reg = log_reg.predict(X_test)\n",
    "\n",
    "# Đánh giá mô hình\n",
    "accuracy_log_reg_all = accuracy_score(y_test, y_pred_log_reg)\n",
    "print(\"Logistic Regression Accuracy (all features):\", accuracy_log_reg_all)\n",
    "print(\"Classification Report for Logistic Regression (all features):\\n\", classification_report(y_test, y_pred_log_reg))"
   ]
  },
  {
   "cell_type": "code",
   "execution_count": 39,
   "metadata": {},
   "outputs": [
    {
     "name": "stdout",
     "output_type": "stream",
     "text": [
      "Feature Importances (Permutation Importance) for Logistic Regression:\n",
      "                Feature  Importance\n",
      "2  Daily Internet Usage    0.306333\n",
      "0                   Age    0.037000\n",
      "1           Area Income    0.037000\n",
      "4                  City   -0.000333\n",
      "6               Country   -0.001667\n",
      "5                  Male   -0.003667\n",
      "3         Ad Topic Line   -0.005000\n"
     ]
    }
   ],
   "source": [
    "perm_importance_log_reg = permutation_importance(log_reg, X_test, y_test, n_repeats=10, random_state=42)\n",
    "importance_values = perm_importance_log_reg.importances_mean\n",
    "feature_names = X.columns\n",
    "\n",
    "feature_importance_log_reg_df = pd.DataFrame({\n",
    "    'Feature': feature_names,\n",
    "    'Importance': importance_values\n",
    "}).sort_values(by='Importance', ascending=False)\n",
    "\n",
    "print(\"Feature Importances (Permutation Importance) for Logistic Regression:\")\n",
    "print(feature_importance_log_reg_df)"
   ]
  },
  {
   "cell_type": "markdown",
   "metadata": {},
   "source": [
    "<h2 style=\"color: #4CAF50;\">Kết luận</h2>\n",
    "<p style=\"color: #333333; font-size: 18px; line-height: 1.8;\">\n",
    "    <strong>Daily Internet Usage</strong> có độ quan trọng cao nhất (0.306333), cho thấy mối quan hệ mạnh mẽ giữa thói quen sử dụng Internet và khả năng nhấp vào quảng cáo. Đây có thể là yếu tố quyết định trong việc dự đoán hành vi click.<br><br>\n",
    "    <strong>Age và Area Income</strong> có độ quan trọng thấp (0.037), nhưng vẫn có tác động nhất định đến dự đoán.<br><br>\n",
    "    <strong>City, Country, và Male</strong> có độ quan trọng âm, đặc biệt là <strong>Ad Topic Line</strong> (-0.005), cho thấy các yếu tố này ít ảnh hưởng đến khả năng click quảng cáo.\n",
    "</p>\n",
    "\n",
    "<h3 style=\"color: #4CAF50;\">Kết luận liên quan đến dự đoán \"Clicked on Ads\"</h3>\n",
    "<p style=\"color: #333333; font-size: 18px; line-height: 1.8;\">\n",
    "    <strong>Daily Internet Usage</strong> là yếu tố quan trọng nhất, phản ánh sự tương quan chặt chẽ giữa hành vi trực tuyến và khả năng người dùng nhấp vào quảng cáo. Các yếu tố như <strong>City, Country, và Male</strong> có ít ảnh hưởng hoặc không có tác động rõ rệt đối với mô hình dự đoán.\n",
    "</p>\n"
   ]
  },
  {
   "cell_type": "code",
   "execution_count": 40,
   "metadata": {},
   "outputs": [
    {
     "name": "stdout",
     "output_type": "stream",
     "text": [
      "Logistic Regression Accuracy (without Area Income): 0.8733333333333333\n",
      "Classification Report for Logistic Regression (without Area Income):\n",
      "               precision    recall  f1-score   support\n",
      "\n",
      "           0       0.85      0.90      0.87       146\n",
      "           1       0.90      0.85      0.87       154\n",
      "\n",
      "    accuracy                           0.87       300\n",
      "   macro avg       0.87      0.87      0.87       300\n",
      "weighted avg       0.87      0.87      0.87       300\n",
      "\n"
     ]
    }
   ],
   "source": [
    "# Loại bỏ thuộc tính Area Income\n",
    "X_no_income = X.drop('Area Income', axis=1)\n",
    "\n",
    "# Chia dữ liệu thành tập huấn luyện và tập kiểm tra\n",
    "X_train_no_income, X_test_no_income, y_train, y_test = train_test_split(X_no_income, y, test_size=0.3, random_state=42)\n",
    "\n",
    "# Huấn luyện Logistic Regression mà không có thuộc tính Area Income\n",
    "log_reg_no_income = LogisticRegression(max_iter=1000)\n",
    "log_reg_no_income.fit(X_train_no_income, y_train)\n",
    "\n",
    "# Dự đoán trên tập kiểm tra\n",
    "y_pred_log_reg_no_income = log_reg_no_income.predict(X_test_no_income)\n",
    "\n",
    "# Đánh giá mô hình\n",
    "accuracy_log_reg_no_income = accuracy_score(y_test, y_pred_log_reg_no_income)\n",
    "print(\"Logistic Regression Accuracy (without Area Income):\", accuracy_log_reg_no_income)\n",
    "print(\"Classification Report for Logistic Regression (without Area Income):\\n\", classification_report(y_test, y_pred_log_reg_no_income))"
   ]
  },
  {
   "cell_type": "code",
   "execution_count": 7,
   "metadata": {},
   "outputs": [
    {
     "name": "stdout",
     "output_type": "stream",
     "text": [
      "Logistic Regression Accuracy (all features): 0.8933333333333333\n",
      "Logistic Regression Accuracy (without Area Income): 0.8733333333333333\n",
      "Area Income có ảnh hưởng tích cực đến mô hình Logistic Regression.\n"
     ]
    }
   ],
   "source": [
    "print(\"Logistic Regression Accuracy (all features):\", accuracy_log_reg_all)\n",
    "print(\"Logistic Regression Accuracy (without Area Income):\", accuracy_log_reg_no_income)\n",
    "\n",
    "# Kết luận\n",
    "if accuracy_log_reg_all > accuracy_log_reg_no_income:\n",
    "    print(\"Area Income có ảnh hưởng tích cực đến mô hình Logistic Regression.\")\n",
    "else:\n",
    "    print(\"Area Income không có ảnh hưởng đáng kể đến mô hình Logistic Regression.\")"
   ]
  },
  {
   "cell_type": "markdown",
   "metadata": {},
   "source": [
    "<h2 style=\"color: #4CAF50;\">3. Random Forest.</h2>"
   ]
  },
  {
   "cell_type": "code",
   "execution_count": 8,
   "metadata": {},
   "outputs": [],
   "source": [
    "# Preprocess the data\n",
    "# drop 'Timestamp' column for now as it's not needed for prediction\n",
    "random_forest_data = data.drop(columns=['Timestamp'])"
   ]
  },
  {
   "cell_type": "code",
   "execution_count": 9,
   "metadata": {},
   "outputs": [],
   "source": [
    "# Identify columns with object data type and apply label encoding\n",
    "object_columns_rf = random_forest_data.select_dtypes(include=['object']).columns\n",
    "label_encoders = {}\n",
    "for col in object_columns_rf:\n",
    "    le = LabelEncoder()\n",
    "    random_forest_data[col] = le.fit_transform(random_forest_data[col])\n",
    "    label_encoders[col] = le"
   ]
  },
  {
   "cell_type": "code",
   "execution_count": 10,
   "metadata": {},
   "outputs": [],
   "source": [
    "# Split the data into features and target variable\n",
    "X = random_forest_data.drop(columns=['Clicked on Ad'])\n",
    "y = random_forest_data['Clicked on Ad']\n",
    "\n",
    "# Standardize the features\n",
    "scaler = StandardScaler()\n",
    "X_scaled = scaler.fit_transform(X)\n",
    "\n",
    "# Split the data into training and testing sets\n",
    "X_train, X_test, y_train, y_test = train_test_split(X_scaled, y, test_size=0.3, random_state=42)"
   ]
  },
  {
   "cell_type": "markdown",
   "metadata": {},
   "source": [
    "<h3 style=\"color:rgb(236, 82, 5);\">a. Random Forest Classifier Model</h3>"
   ]
  },
  {
   "cell_type": "code",
   "execution_count": 11,
   "metadata": {},
   "outputs": [],
   "source": [
    "# Train and evaluate Random Forest Classifier model\n",
    "rf_clf = RandomForestClassifier(n_estimators=100, random_state=42)\n",
    "rf_clf.fit(X_train, y_train)\n",
    "y_pred_rf_clf = rf_clf.predict(X_test)\n",
    "rf_clf_accuracy = accuracy_score(y_test, y_pred_rf_clf)"
   ]
  },
  {
   "cell_type": "code",
   "execution_count": 12,
   "metadata": {},
   "outputs": [
    {
     "name": "stdout",
     "output_type": "stream",
     "text": [
      "Random Forest Classifier Accuracy: 0.89\n",
      "\n",
      "Random Forest Classifier Classification Report:\n",
      "              precision    recall  f1-score   support\n",
      "\n",
      "           0       0.86      0.92      0.89       146\n",
      "           1       0.92      0.86      0.89       154\n",
      "\n",
      "    accuracy                           0.89       300\n",
      "   macro avg       0.89      0.89      0.89       300\n",
      "weighted avg       0.89      0.89      0.89       300\n",
      "\n"
     ]
    }
   ],
   "source": [
    "# Print accuracy scores\n",
    "print(f\"Random Forest Classifier Accuracy: {rf_clf_accuracy}\")\n",
    "\n",
    "# Print classification reports\n",
    "print(\"\\nRandom Forest Classifier Classification Report:\")\n",
    "print(classification_report(y_test, y_pred_rf_clf))"
   ]
  },
  {
   "cell_type": "code",
   "execution_count": 13,
   "metadata": {},
   "outputs": [],
   "source": [
    "# Check feature importance for Random Forest Classifier\n",
    "feature_importances_clf = rf_clf.feature_importances_\n",
    "feature_names = X.columns\n",
    "\n",
    "# Create a DataFrame for feature importances\n",
    "feature_importance_clf_df = pd.DataFrame({'Feature': feature_names, 'Importance': feature_importances_clf})\n",
    "feature_importance_clf_df = feature_importance_clf_df.sort_values(by='Importance', ascending=False)"
   ]
  },
  {
   "cell_type": "code",
   "execution_count": 14,
   "metadata": {},
   "outputs": [
    {
     "data": {
      "image/png": "[encoded data removed]",
      "text/plain": [
       "<Figure size 1000x600 with 1 Axes>"
      ]
     },
     "metadata": {},
     "output_type": "display_data"
    },
    {
     "data": {
      "image/png": "[encoded data removed]",
      "text/plain": [
       "<Figure size 1200x800 with 2 Axes>"
      ]
     },
     "metadata": {},
     "output_type": "display_data"
    },
    {
     "name": "stdout",
     "output_type": "stream",
     "text": [
      "Correlation between 'Area Income' and 'Clicked on Ad': -0.4769046351199011\n"
     ]
    }
   ],
   "source": [
    "# Plot feature importances\n",
    "plt.figure(figsize=(10, 6))\n",
    "sns.barplot(x='Importance', y='Feature', data=feature_importance_clf_df)\n",
    "plt.title('Feature Importances from Random Forest Classifier')\n",
    "plt.show()\n",
    "\n",
    "# Check correlation matrix to see the correlation between features and target variable\n",
    "correlation_matrix = random_forest_data.corr()\n",
    "\n",
    "# Plot correlation matrix heatmap\n",
    "plt.figure(figsize=(12, 8))\n",
    "sns.heatmap(correlation_matrix, annot=True, cmap='coolwarm', fmt='.2f')\n",
    "plt.title('Correlation Matrix')\n",
    "plt.show()\n",
    "\n",
    "# Check the correlation of 'Area Income' with 'Clicked on Ad'\n",
    "income_correlation = correlation_matrix.loc['Area Income', 'Clicked on Ad']\n",
    "print(f\"Correlation between 'Area Income' and 'Clicked on Ad': {income_correlation}\")"
   ]
  },
  {
   "cell_type": "markdown",
   "metadata": {},
   "source": [
    "<h3 style=\"color:rgb(236, 82, 5);\">b. Random Forest Regressor Model</h3>"
   ]
  },
  {
   "cell_type": "code",
   "execution_count": 15,
   "metadata": {},
   "outputs": [
    {
     "name": "stdout",
     "output_type": "stream",
     "text": [
      "RMSE on test set: 0.2839870889083985\n"
     ]
    }
   ],
   "source": [
    "# Build the model\n",
    "rf_reg = RandomForestRegressor(n_estimators=100, random_state=42)\n",
    "\n",
    "# Fit the model\n",
    "rf_reg.fit(X_train, y_train)\n",
    "\n",
    "# Make predictions\n",
    "y_pred = rf_reg.predict(X_test)\n",
    "\n",
    "# Evaluate the model\n",
    "rmse = np.sqrt(mean_squared_error(y_test, y_pred))\n",
    "print(\"RMSE on test set:\", rmse)"
   ]
  },
  {
   "cell_type": "code",
   "execution_count": 16,
   "metadata": {},
   "outputs": [
    {
     "name": "stdout",
     "output_type": "stream",
     "text": [
      "Cross-validated RMSE on training set for each fold: [0.25129095 0.22215664 0.23256796 0.27163526 0.24883012]\n",
      "Mean RMSE on training set: 0.2452961863433026\n",
      "RMSE on test set: 0.2839870889083985\n"
     ]
    }
   ],
   "source": [
    "# Sử dụng KFold với 5 lần gập (n_splits=5) và shuffle=True để đảm bảo dữ liệu được xáo trộn mỗi lần chia.\n",
    "kf = KFold(n_splits=5, shuffle=True, random_state=42) \n",
    "#Thiết lập random_state với một giá trị cụ thể -> đảm bảo rằng bất kỳ lần chạy nào của mã đó sẽ cho kết quả giống nhau, miễn là dữ liệu đầu vào không thay đổi.\n",
    "#Chạy trên cùng tham số, thiết lập -> cho kqua giống nhau\n",
    "\n",
    "# Tính RMSE bằng cross_val_score\n",
    "train_rmse_scores = -cross_val_score(rf_reg, X_train, y_train, cv=kf, scoring='neg_root_mean_squared_error')\n",
    "\n",
    "# In kết quả\n",
    "print(\"Cross-validated RMSE on training set for each fold:\", train_rmse_scores)\n",
    "print(\"Mean RMSE on training set:\", np.mean(train_rmse_scores))\n",
    "\n",
    "# Predict on the test set\n",
    "y_pred_test = rf_reg.predict(X_test)\n",
    "\n",
    "# Calculate RMSE on the test set\n",
    "test_rmse = np.sqrt(mean_squared_error(y_test, y_pred_test))\n",
    "print(\"RMSE on test set:\", test_rmse)"
   ]
  },
  {
   "cell_type": "code",
   "execution_count": 41,
   "metadata": {},
   "outputs": [],
   "source": [
    "# Get feature importances from Random Forest Regressor\n",
    "feature_importances_reg = rf_reg.feature_importances_\n",
    "\n",
    "# Create a DataFrame for feature importances from regressor\n",
    "feature_importance_reg_df = pd.DataFrame({'Feature': feature_names, 'Importance': feature_importances_reg})\n",
    "feature_importance_reg_df = feature_importance_reg_df.sort_values(by='Importance', ascending=False)\n"
   ]
  },
  {
   "cell_type": "markdown",
   "metadata": {},
   "source": [
    "<h3 style=\"color:rgb(236, 82, 5);\">So sánh kết quả của 2 model trên</h3>"
   ]
  },
  {
   "cell_type": "code",
   "execution_count": 16,
   "metadata": {},
   "outputs": [
    {
     "name": "stdout",
     "output_type": "stream",
     "text": [
      "Feature Importances from Random Forest Classifier:\n",
      "                Feature  Importance\n",
      "2  Daily Internet Usage    0.555369\n",
      "1           Area Income    0.168297\n",
      "0                   Age    0.148822\n",
      "3         Ad Topic Line    0.045172\n",
      "4                  City    0.042661\n",
      "6               Country    0.033665\n",
      "5                  Male    0.006014\n",
      "\n",
      "Feature Importances from Random Forest Regressor:\n",
      "                Feature  Importance\n",
      "2  Daily Internet Usage    0.753299\n",
      "0                   Age    0.085434\n",
      "1           Area Income    0.085406\n",
      "4                  City    0.028044\n",
      "3         Ad Topic Line    0.024247\n",
      "6               Country    0.021714\n",
      "5                  Male    0.001855\n"
     ]
    }
   ],
   "source": [
    "# Print feature importances from both models\n",
    "print(\"Feature Importances from Random Forest Classifier:\")\n",
    "print(feature_importance_clf_df)\n",
    "\n",
    "print(\"\\nFeature Importances from Random Forest Regressor:\")\n",
    "print(feature_importance_reg_df)"
   ]
  },
  {
   "cell_type": "markdown",
   "metadata": {},
   "source": [
    "<div style=\" color: #4CAF50; font-size: 20px;\">\n",
    "  <strong>Nhận xét về kết quả mối tương quan giữa các thuộc tính với 'Clicked on Ad'</strong>\n",
    "</div>\n",
    "\n",
    "1. **Daily Internet Usage**: <br>\n",
    "    - Classifier: Đây là đặc trưng quan trọng nhất với tầm quan trọng 0.396926. <br>\n",
    "    - Regressor: Đây cũng là đặc trưng quan trọng nhất với tầm quan trọng 0.685476. <br>\n",
    "    - Kết luận: Thời gian sử dụng Internet hàng ngày có ảnh hưởng lớn đến khả năng click vào quảng cáo. <br>\n",
    "2. **Daily Time Spent on Site**: <br>\n",
    "    - Classifier: Đây là đặc trưng quan trọng thứ hai với tầm quan trọng 0.358433. <br>\n",
    "    - Regressor: Đây cũng là đặc trưng quan trọng thứ hai với tầm quan trọng 0.217669. <br>\n",
    "    - Kết luận: Thời gian sử dụng trang web hàng ngày cũng có ảnh hưởng lớn đến khả năng click vào quảng cáo. <br>\n",
    "3. **Age**: <br>\n",
    "    - Classifier: Đặc trưng này có tầm quan trọng 0.096253. <br>\n",
    "    - Regressor: Đặc trưng này có tầm quan trọng 0.028421. <br>\n",
    "    - Kết luận: Tuổi của người dùng có ảnh hưởng nhưng không lớn bằng thời gian sử dụng Internet và trang web. <br>\n",
    "4. **Area Income**: <br>\n",
    "    - Classifier: Đặc trưng này có tầm quan trọng 0.088554. <br>\n",
    "    - Regressor: Đặc trưng này có tầm quan trọng 0.040069. <br>\n",
    "    - Kết luận: Thu nhập của khu vực có ảnh hưởng đến khả năng click vào quảng cáo, nhưng không lớn bằng các đặc trưng khác. <br>\n",
    "5. **Các đặc trưng khác**: <br>\n",
    "    - Ad Topic Line, City, Country, Male: Các đặc trưng này có tầm quan trọng thấp hơn nhiều so với các đặc trưng chính như Daily Internet Usage và Daily Time Spent on Site. <br>\n",
    "\n",
    "<div style=\" color: #4CAF50; font-size: 20px;\">\n",
    "  <strong>Kết luận</strong>\n",
    "</div>\n",
    "\n",
    "- <strong>Daily Internet Usage</strong> và <strong>Daily Time Spent on Site</strong> là hai đặc trưng quan trọng nhất trong việc dự đoán khả năng click vào quảng cáo.\n",
    "- <strong>Age</strong> và <strong>Area Income</strong> cũng có ảnh hưởng nhưng không lớn bằng hai đặc trưng trên.\n",
    "- Các đặc trưng khác như <strong>Ad Topic Line, City, Country</strong>, và <strong>Male</strong> có tầm quan trọng thấp hơn nhiều."
   ]
  },
  {
   "cell_type": "markdown",
   "metadata": {},
   "source": [
    "<div style=\" color: #4CAF50; font-size: 20px;\">\n",
    "  <strong>So sánh hai mô hình Random Forest Classifier và Random Forest Regressor</strong>\n",
    "</div>\n",
    "\n",
    "**1. Random Forest Classifier** <br>\n",
    "  - ***Cross-Validation Results:*** <br>\n",
    "    + Precision: 0.97 <br>\n",
    "    + Recall: 0.96 <br>\n",
    "    + F1 Score: 0.96 <br>\n",
    "  - ***Final Evaluation on Test Set:*** <br>\n",
    "    + Precision: 0.95 <br>\n",
    "    + Recall: 0.96 <br>\n",
    "    + F1 Score: 0.96 <br>\n",
    "    \n",
    "**2. Random Forest Regressor** <br>\n",
    "  - ***Cross-Validation Results:*** <br>\n",
    "    + RMSE cho mỗi lần gập: [0.1731, 0.1683, 0.1857, 0.2220, 0.1613] <br>\n",
    "    + Mean RMSE trên tập huấn luyện: 0.1821 <br>\n",
    "  - ***Final Evaluation on Test Set:*** <br>\n",
    "    + RMSE trên tập kiểm tra: 0.1908"
   ]
  },
  {
   "cell_type": "markdown",
   "metadata": {},
   "source": [
    "<div style=\" color: #4CAF50; font-size: 20px;\">\n",
    "  <strong>Nhận xét</strong>\n",
    "</div>\n",
    "\n",
    "**1. Độ chính xác của mô hình:**<br>\n",
    "    - <strong>Random Forest Classifier</strong>: Mô hình này có độ chính xác cao với các độ đo <strong>precision, recall, và f1-score</strong> đều trên <strong>0.95</strong>. Điều này cho thấy mô hình có khả năng phân loại chính xác khả năng click vào quảng cáo. <br>\n",
    "    - <strong>Random Forest Regressor</strong>: Mô hình này cũng có độ chính xác cao với <strong>RMSE trung bình</strong> trên tập huấn luyện là <strong>0.1821</strong> và <strong>RMSE</strong> trên tập kiểm tra là <strong>0.1908</strong>. Điều này cho thấy mô hình có khả năng dự đoán chính xác giá trị liên tục của khả năng click vào quảng cáo. <br>\n",
    "\n",
    "**2. Cross-Validation:** <br>\n",
    "    - <strong>Random Forest Classifier</strong>: Cross-validation cho thấy mô hình hoạt động ổn định với các độ đo <strong>precision, recall, và f1-score</strong> đều cao. <br>\n",
    "    - <strong>Random Forest Regressor</strong>: Cross-validation cho thấy mô hình hoạt động ổn định với <strong>RMSE trung bình thấp</strong>, cho thấy mô hình không bị <strong>overfitting</strong> hoặc <strong>underfitting</strong>.<br>\n",
    "\n",
    "<div style=\" color: #4CAF50; font-size: 20px;\">\n",
    "  <strong>Kết luận</strong>\n",
    "</div>\n",
    "\n",
    "- <strong>Random Forest Classifier</strong>: Phù hợp cho <strong>bài toán phân loại</strong>, đặc biệt khi cần dự đoán khả năng click vào quảng cáo dưới dạng <strong>nhị phân</strong> (có hoặc không).<br>\n",
    "- <strong>Random Forest Regressor</strong>: Phù hợp cho bài toán <strong>dự đoán giá trị liên tục</strong>, nhưng trong trường hợp này, bài toán phân loại có vẻ phù hợp hơn.<br>\n",
    "\n",
    "\n",
    "<div style=\" color: #4CAF50; font-size: 20px;\">\n",
    "  <strong>Lựa chọn mô hình</strong>\n",
    "</div>\n",
    "\n",
    "- <strong>Random Forest Classifier</strong> được lựa chọn làm mô hình cuối cùng do <strong>độ chính xác cao</strong> và <strong>phù hợp với bài toán phân loại</strong> khả năng click vào quảng cáo."
   ]
  },
  {
   "cell_type": "markdown",
   "metadata": {},
   "source": [
    "<h2 style=\"color: #4CAF50;\">3.So sánh tổng quan cả 3 mô hình.</h2>"
   ]
  },
  {
   "cell_type": "markdown",
   "metadata": {},
   "source": [
    "<h2 style=\"color: #4CAF50;\">Đánh giá mô hình</h2>\n",
    "<ol style=\"color: #333333; font-size: 18px; line-height: 1.8;\">\n",
    "    <li>\n",
    "        <strong>KNN:</strong> Accuracy: 0.73, Validation Accuracy: 0.68, AUC: 0.686, Precision (Class 0): 0.64, Recall (Class 0): 0.79, Precision (Class 1): 0.74, Recall (Class 1): 0.58, F1-Score: 0.71 (Class 0), 0.65 (Class 1), Time: 0.0038s. <br> KNN có accuracy thấp trên tập kiểm tra và recall thấp cho Class 1, cho thấy mô hình gặp khó khăn trong việc phân loại click ads, mặc dù có khả năng tốt với Class 0.\n",
    "    </li>\n",
    "    <li>\n",
    "        <strong>Logistic Regression:</strong> Accuracy: 0.89, Precision (Class 0): 0.87, Recall (Class 0): 0.92, Precision (Class 1): 0.92, Recall (Class 1): 0.87, F1-Score: 0.89. <br> Logistic Regression có độ chính xác cao, với precision và recall cân bằng tốt cho cả hai lớp, thực hiện tốt trong phân loại click và không click ads.\n",
    "    </li>\n",
    "    <li>\n",
    "        <strong>Random Forest:</strong> Accuracy: 0.89, Precision (Class 0): 0.86, Recall (Class 0): 0.92, Precision (Class 1): 0.92, Recall (Class 1): 0.86, F1-Score: 0.89. <br> Random Forest có kết quả tương đương Logistic Regression về accuracy và các chỉ số khác, nhưng có thể xử lý mối quan hệ phi tuyến tính phức tạp hơn.\n",
    "    </li>\n",
    "</ol>\n",
    "\n",
    "<h3 style=\"color: #4CAF50;\">Kết luận</h3>\n",
    "<p style=\"color: #333333; font-size: 18px; line-height: 1.8;\">\n",
    "    Logistic Regression và Random Forest đều đạt accuracy 0.89 và F1-Score 0.89 với precision và recall cân bằng cho cả hai lớp. KNN có accuracy thấp hơn (0.68) và F1-Score thấp hơn, đặc biệt với Class 1, không phải là lựa chọn tốt nhất. Logistic Regression đơn giản và dễ triển khai, trong khi Random Forest linh hoạt hơn, phù hợp với mối quan hệ phi tuyến tính phức tạp. Quyết định chọn mô hình nên dựa trên tài nguyên tính toán, khả năng triển khai và yêu cầu độ phức tạp.\n",
    "</p>\n"
   ]
  }
 ],
 "metadata": {
  "kernelspec": {
   "display_name": "Python 3",
   "language": "python",
   "name": "python3"
  },
  "language_info": {
   "codemirror_mode": {
    "name": "ipython",
    "version": 3
   },
   "file_extension": ".py",
   "mimetype": "text/x-python",
   "name": "python",
   "nbconvert_exporter": "python",
   "pygments_lexer": "ipython3",
   "version": "3.13.1"
  }
 },
 "nbformat": 4,
 "nbformat_minor": 2
}
