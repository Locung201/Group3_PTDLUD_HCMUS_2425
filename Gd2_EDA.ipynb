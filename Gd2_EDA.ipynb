{
  "nbformat": 4,
  "nbformat_minor": 0,
  "metadata": {
    "colab": {
      "private_outputs": true,
      "provenance": [],
      "authorship_tag": "ABX9TyMAhr/EUQjNHfZs/CGZOlmk",
      "include_colab_link": true
    },
    "kernelspec": {
      "name": "python3",
      "display_name": "Python 3"
    },
    "language_info": {
      "name": "python"
    }
  },
  "cells": [
    {
      "cell_type": "markdown",
      "metadata": {
        "id": "view-in-github",
        "colab_type": "text"
      },
      "source": [
        "<a href=\"https://colab.research.google.com/github/Locung201/Group3_PTDLUD_HCMUS_2425/blob/main/Gd2_EDA.ipynb\" target=\"_parent\"><img src=\"https://colab.research.google.com/assets/colab-badge.svg\" alt=\"Open In Colab\"/></a>"
      ]
    },
    {
      "cell_type": "markdown",
      "source": [
        "# <span style=\"background-color: #D3D3D3; font-weight: bold;\">Giai đoạn 2: Phân tích EDA (Exploratory Data Analysis)</span>\n"
      ],
      "metadata": {
        "id": "8XjLZxwI11j6"
      }
    },
    {
      "cell_type": "markdown",
      "source": [
        "<style>\n",
        "    body {\n",
        "        margin: 0;\n",
        "        font-family: Arial, sans-serif;\n",
        "    }\n",
        "    h2 {\n",
        "        color: #4CAF50;\n",
        "        text-align: center;\n",
        "        font-size: 26px;\n",
        "    }\n",
        "    table {\n",
        "        width: 80%;\n",
        "        margin: 50px auto; /* Căn giữa bảng */\n",
        "        border-collapse: collapse;\n",
        "        font-size: 20px;\n",
        "    }\n",
        "    th, td {\n",
        "        border: 1px solid #dddddd;\n",
        "        text-align: center;\n",
        "        padding: 15px;\n",
        "    }\n",
        "    th {\n",
        "        background-color: #4CAF50;\n",
        "        color: white;\n",
        "        font-size: 22px;\n",
        "    }\n",
        "    tr:nth-child(even) {\n",
        "        background-color: #f9f9f9;\n",
        "    }\n",
        "    tr:nth-child(odd) {\n",
        "        background-color: #ffffff;\n",
        "    }\n",
        "    .icon {\n",
        "        color: #4CAF50;\n",
        "        font-size: 22px;\n",
        "        margin-right: 8px;\n",
        "    }\n",
        "    a {\n",
        "        text-decoration: none;\n",
        "        color: #4CAF50;\n",
        "    }\n",
        "</style>\n",
        "\n",
        "<h2>Nhóm 3 - CSC12110 - PTDLUD</h2>\n",
        "\n",
        "<table>\n",
        "    <tr>\n",
        "        <th>MSSV</th>\n",
        "        <th>Họ Tên</th>\n",
        "        <th>Email</th>\n",
        "    </tr>\n",
        "    <tr>\n",
        "        <td>18127008</td>\n",
        "        <td><i class=\"icon\">👨‍💻</i> Lê Mạnh Hoàng</td>\n",
        "        <td><a href=\"mailto:lmhoang18@clc.fitus.edu.vn\">lmhoang18@clc.fitus.edu.vn</a></td>\n",
        "    </tr>\n",
        "    <tr>\n",
        "        <td>21127211</td>\n",
        "        <td><i class=\"icon\">👩‍💻</i> Nguyễn Vũ Tường An</td>\n",
        "        <td><a href=\"mailto:nvtan21@clc.fitus.edu.vn\">nvtan21@clc.fitus.edu.vn</a></td>\n",
        "    </tr>\n",
        "    <tr>\n",
        "        <td>21127699</td>\n",
        "        <td><i class=\"icon\">👩‍💻</i> Lô Thủy Tiên</td>\n",
        "        <td><a href=\"mailto:lttien21@clc.fitus.edu.vn\">lttien21@clc.fitus.edu.vn</a></td>\n",
        "    </tr>\n",
        "</table>\n",
        "\n"
      ],
      "metadata": {
        "id": "oeIW-Stn18d9"
      }
    },
    {
      "cell_type": "code",
      "source": [
        "import matplotlib.pyplot as plt\n",
        "import seaborn as sns\n",
        "import pandas as pd"
      ],
      "metadata": {
        "id": "7FDO5zykB7ZS"
      },
      "execution_count": null,
      "outputs": []
    },
    {
      "cell_type": "code",
      "source": [
        "# Uploading files from your local file system\n",
        "from google.colab import files\n",
        "uploaded = files.upload()\n",
        "\n",
        "# Lấy tên file đã upload\n",
        "filename = list(uploaded.keys())[0]\n",
        "\n",
        "# Đọc dữ liệu từ file CSV\n",
        "df =  pd.read_excel('/content/cleaned_2425_QC.xlsx', engine='openpyxl')\n",
        "\n",
        "# Hiển thị vài dòng đầu tiên của dữ liệu\n",
        "df.head()"
      ],
      "metadata": {
        "id": "f6XT-lac9T5p"
      },
      "execution_count": null,
      "outputs": []
    },
    {
      "cell_type": "markdown",
      "source": [
        "## <span style=\"background-color: #D3D3D3; font-weight: bold;\">1. Phân tích đơn biến (Univariate Analysis), Bivariate Analysis:"
      ],
      "metadata": {
        "id": "Z0qCYOXy2ADQ"
      }
    },
    {
      "cell_type": "markdown",
      "source": [
        "<h2 style=\"color: #4CAF50;\">c. Phân tích thời điểm sử dụng website trong ngày</h2>"
      ],
      "metadata": {
        "id": "uzsBwmbX2P8R"
      }
    },
    {
      "cell_type": "code",
      "source": [
        "df['Timestamp'] = pd.to_datetime(df['Timestamp'])\n",
        "df['Timestamp']"
      ],
      "metadata": {
        "id": "ibn0JNBs-HfY"
      },
      "execution_count": null,
      "outputs": []
    },
    {
      "cell_type": "code",
      "source": [
        "# Phân loại thời điểm trong ngày\n",
        "def classify_time_of_day(timestamp):\n",
        "    hour = timestamp.hour\n",
        "    if 6 <= hour < 12:  # Khung giờ sáng\n",
        "        return 'Morning'\n",
        "    elif 12 <= hour < 15:  # Khung giờ trưa\n",
        "        return 'Afternoon'\n",
        "    elif 15 <= hour < 18:  # Khung giờ chiều\n",
        "        return 'Evening'\n",
        "    else:  # Khung giờ đêm\n",
        "        return 'Night'\n",
        "\n",
        "# Áp dụng hàm phân loại cho cột Timestamp\n",
        "df['Time_of_Day'] = df['Timestamp'].apply(classify_time_of_day)\n",
        "\n",
        "# Kiểm tra kết quả\n",
        "df[['Timestamp', 'Time_of_Day']].head()\n"
      ],
      "metadata": {
        "id": "HmJabVtxBOzu"
      },
      "execution_count": null,
      "outputs": []
    },
    {
      "cell_type": "code",
      "source": [
        "sns.set_palette(\"pastel\")\n",
        "\n",
        "# Đếm số lượng bản ghi cho mỗi khung giờ\n",
        "time_of_day_counts = df['Time_of_Day'].value_counts()\n",
        "\n",
        "# Vẽ biểu đồ cột\n",
        "plt.figure(figsize=(8, 6))\n",
        "ax = sns.barplot(x=time_of_day_counts.index, y=time_of_day_counts.values)\n",
        "\n",
        "ax.set_facecolor('#f0f0f0')\n",
        "plt.title('Số lượng người dùng theo từng khung giờ trong ngày', fontsize=14, fontweight='bold', pad=30)\n",
        "plt.xlabel('Khung giờ trong ngày', fontsize=12, labelpad=15)\n",
        "plt.ylabel('Số lượng người dùng', fontsize=12, labelpad=15)\n",
        "\n",
        "# Hiển thị số lượng trên cột\n",
        "for i in range(len(time_of_day_counts)):\n",
        "    plt.text(i, time_of_day_counts.values[i],\n",
        "             str(time_of_day_counts.values[i]),\n",
        "             ha='center', va='bottom', fontsize=10, color='black')\n",
        "\n",
        "# Hiển thị biểu đồ\n",
        "plt.show()\n"
      ],
      "metadata": {
        "id": "2_ODMxJjCHs7"
      },
      "execution_count": null,
      "outputs": []
    },
    {
      "cell_type": "markdown",
      "source": [
        "<h2 style=\"color: #4CAF50;\">Nhận xét tổng quan</h2>\n",
        "<p style=\"color: #333333; font-size: 18px;\">\n",
        "    <strong>Đêm</strong> là thời điểm phổ biến nhất để người dùng truy cập website, có thể do đây là thời gian rảnh rỗi nhất trong ngày.\n",
        "    <br><br>\n",
        "    <strong>Sáng</strong> cũng là thời điểm khá phổ biến, có thể do thói quen truy cập internet vào đầu ngày.\n",
        "    <br><br>\n",
        "    <strong>Trưa và Chiều</strong> là thời điểm ít người dùng truy cập website nhất, có thể do bận rộn với các hoạt động hàng ngày.\n",
        "</p>\n",
        "\n",
        "<h2 style=\"color: #4CAF50;\">Kết luận:</h2>\n",
        "<p style=\"color: #333333; font-size: 18px;\">\n",
        "    Người dùng có xu hướng sử dụng website vào ban đêm nhiều hơn các thời gian khác trong ngày.\n",
        "    <br><br>\n",
        "    Sự giảm dần số lượng người dùng từ <strong>\"Night\"</strong> đến <strong>\"Evening\"</strong> và <strong>\"Afternoon\"</strong> có thể phản ánh thói quen sử dụng internet của người dùng, khi họ có xu hướng truy cập website vào thời gian tự do, như ban đêm sau khi hoàn thành công việc trong ngày.\n",
        "</p>\n"
      ],
      "metadata": {
        "id": "hEkbFZSeEjox"
      }
    },
    {
      "cell_type": "markdown",
      "source": [
        "<h2 style=\"color: #4CAF50;\">e. Phân tích thu nhập khu vực (Area Income). Đánh giá phân phối thu nhập trung bình của người dùng.</h2>"
      ],
      "metadata": {
        "id": "K4vBcHA_KYVa"
      }
    },
    {
      "cell_type": "code",
      "source": [
        "sns.set_palette(\"pastel\")\n",
        "\n",
        "# Vẽ histogram để quan sát phân phối thu nhập\n",
        "plt.figure(figsize=(8, 6))\n",
        "ax = sns.histplot(df['Area Income'], kde=True, bins=20)\n",
        "ax.set_facecolor('#f0f0f0')\n",
        "\n",
        "# Thêm tiêu đề và nhãn cho biểu đồ\n",
        "plt.title('Phân phối thu nhập khu vực (Area Income)', fontsize=14, fontweight='bold', pad=30)\n",
        "plt.xlabel('Thu nhập khu vực (Area Income)', fontsize=12, labelpad=15)\n",
        "plt.ylabel('Số lượng người dùng', fontsize=12, labelpad=15)\n",
        "\n",
        "# Hiển thị biểu đồ\n",
        "plt.show()"
      ],
      "metadata": {
        "id": "K6IfwnCHKl4I"
      },
      "execution_count": null,
      "outputs": []
    },
    {
      "cell_type": "markdown",
      "source": [
        "<h2 style=\"color: #4CAF50;\">Nhận xét tổng quan</h2>\n",
        "<p style=\"color: #333333; font-size: 18px;\">\n",
        "    Biểu đồ histogram trên cho thấy phân phối thu nhập của một khu vực cụ thể. Dựa trên hình dạng của biểu đồ, có thể rút ra một số nhận xét sau:\n",
        "    <br><br>\n",
        "    <strong>Phân phối lệch phải (right-skewed):</strong> Phần lớn người dân trong khu vực có thu nhập trung bình hoặc dưới trung bình. Một số ít người có thu nhập rất cao, tạo nên \"cái đuôi\" dài về phía bên phải của biểu đồ. Điều này cho thấy sự chênh lệch thu nhập khá lớn giữa các nhóm người dân.\n",
        "    <br><br>\n",
        "    <strong>Điểm đỉnh:</strong> Thu nhập trung bình của khu vực rơi vào khoảng 50.000 - 60.000 đơn vị tiền tệ. Đây là mức thu nhập phổ biến nhất của người dân trong khu vực.\n",
        "    <br><br>\n",
        "    <strong>Độ phân tán:</strong> Dữ liệu thu nhập khá phân tán, thể hiện qua các cột biểu đồ có độ cao khác nhau. Điều này cho thấy sự đa dạng trong mức sống của người dân.\n",
        "</p>\n",
        "\n"
      ],
      "metadata": {
        "id": "tRgxfI38M8l7"
      }
    },
    {
      "cell_type": "code",
      "source": [
        "sns.set_palette(\"pastel\")\n",
        "# Tạo biểu đồ hộp (boxplot) cho cột 'Area Income'\n",
        "plt.figure(figsize=(6, 6))\n",
        "ax = sns.boxplot(y='Area Income', data=df)\n",
        "ax.set_facecolor('#f0f0f0')\n",
        "\n",
        "plt.title('Box Plot cho cột Area Income', fontsize=12, fontweight='bold', pad=20)\n",
        "plt.show()"
      ],
      "metadata": {
        "id": "v7IdsY27OGW5"
      },
      "execution_count": null,
      "outputs": []
    },
    {
      "cell_type": "markdown",
      "source": [
        "<h2 style=\"color: #4CAF50;\">Nhận xét tổng quan</h2>\n",
        "<p style=\"color: #333333; font-size: 18px;\">\n",
        "    <strong>Khoảng biến thiên:</strong> Khoảng cách giữa giá trị nhỏ nhất và lớn nhất khá lớn, cho thấy sự phân tán của dữ liệu thu nhập khá rộng. Có một số người có thu nhập rất cao (ngoại lệ ở phía trên) và một số người có thu nhập rất thấp (ngoại lệ ở phía dưới).\n",
        "    <br><br>\n",
        "    <strong>Giá trị trung vị:</strong> Đường ngang giữa hộp biểu thị giá trị trung vị (median), cho thấy khoảng 50% dân số có thu nhập dưới mức này và 50% còn lại có thu nhập trên mức này. Trong trường hợp này, giá trị trung vị nằm ở khoảng 60.000.\n",
        "    <br><br>\n",
        "    <strong>Các tứ phân vị:</strong> Hộp biểu thị khoảng giữa 50% dữ liệu. Các đường thẳng ở hai đầu hộp là các tứ phân vị thứ nhất (Q1) và thứ ba (Q3). Khoảng cách giữa Q1 và Q3 cho biết khoảng biến thiên của 50% dữ liệu ở giữa.\n",
        "    <br><br>\n",
        "    <strong>Các ngoại lệ:</strong> Các điểm nằm ngoài các \"râu\" của biểu đồ được coi là các ngoại lệ. Trong trường hợp này, có một số ngoại lệ ở cả hai phía, cho thấy có một số người có thu nhập rất cao hoặc rất thấp so với phần còn lại của dân số.\n",
        "</p>"
      ],
      "metadata": {
        "id": "5RSHNGBCPfdL"
      }
    },
    {
      "cell_type": "markdown",
      "source": [
        "<h2 style=\"color: #4CAF50;\">Kết luận</h2>\n",
        "<p style=\"color: #333333; font-size: 18px;\">\n",
        "    <br>\n",
        "    <strong>Bất bình đẳng thu nhập:</strong> Khu vực này có mức độ bất bình đẳng thu nhập khá cao. Một nhóm nhỏ người giàu có thu nhập cao gấp nhiều lần so với phần lớn dân số.\n",
        "    <br>\n",
        "    <strong>Thu nhập trung bình:</strong> Mức thu nhập trung bình của khu vực nằm trong khoảng 50.000 - 60.000 đơn vị tiền tệ, một số ít người dùng có thu nhập rất cao hoặc rất thấp. Tuy nhiên, do sự phân tán lớn của dữ liệu, con số này có thể không phản ánh chính xác mức sống của phần lớn người dân.\n",
        "</p>"
      ],
      "metadata": {
        "id": "WTl54ebaPwWh"
      }
    },
    {
      "cell_type": "markdown",
      "source": [
        "## <span style=\"background-color: #D3D3D3; font-weight: bold;\">2. Phân tích đa biến (Bivariate Analysis):"
      ],
      "metadata": {
        "id": "WuQzhv8oS1jG"
      }
    },
    {
      "cell_type": "markdown",
      "source": [
        "<h2 style=\"color: #4CAF50;\">a. Quan sát mối quan hệ giữa Clicked on Ad.</h2>"
      ],
      "metadata": {
        "id": "-HselNA4S8Ht"
      }
    },
    {
      "cell_type": "markdown",
      "source": [
        "**Mối quan hệ giữa \"Clicked on Ad\" và độ tuổi (Age)**"
      ],
      "metadata": {
        "id": "p-JYCd1HTKKJ"
      }
    },
    {
      "cell_type": "code",
      "source": [
        "sns.set_palette(\"pastel\")\n",
        "# Vẽ boxplot để quan sát mối quan hệ giữa độ tuổi và Clicked on Ad\n",
        "plt.figure(figsize=(8, 6))\n",
        "ax = sns.boxplot(x='Clicked on Ad', y='Age', data=df)\n",
        "ax.set_facecolor('#f0f0f0')\n",
        "# Thêm tiêu đề và nhãn cho biểu đồ\n",
        "plt.title('Mối quan hệ giữa độ tuổi và việc click quảng cáo', fontsize=14, fontweight='bold', pad=20)\n",
        "plt.xlabel('Clicked on Ad', fontsize=12)\n",
        "plt.ylabel('Độ tuổi', fontsize=12)\n",
        "\n",
        "# Hiển thị biểu đồ\n",
        "plt.show()\n"
      ],
      "metadata": {
        "id": "RffSpijTNJUr"
      },
      "execution_count": null,
      "outputs": []
    },
    {
      "cell_type": "markdown",
      "source": [
        "<h2 style=\"color: #4CAF50;\">Nhận xét chung</h2>\n",
        "<p style=\"color: #333333; font-size: 18px;\">\n",
        "    Biểu đồ <strong>boxplot</strong> cung cấp một cái nhìn tổng quan về sự phân bố của độ tuổi đối với hai nhóm người: những người đã click vào quảng cáo (Clicked on Ad = 1) và những người chưa click (Clicked on Ad = 0).\n",
        "    <br><br>\n",
        "    <strong>Độ tuổi trung bình của người click vào quảng cáo cao hơn:</strong> Đường kẻ ngang bên trong hộp (đại diện cho giá trị trung vị) của nhóm đã click vào quảng cáo nằm ở vị trí cao hơn so với nhóm chưa click. Điều này cho thấy, nhìn chung, những người có xu hướng click vào quảng cáo có độ tuổi cao hơn.\n",
        "    <br><br>\n",
        "    <strong>Sự phân tán của độ tuổi:</strong> Cả hai nhóm đều có sự phân tán về độ tuổi, tuy nhiên, nhóm đã click vào quảng cáo có khoảng biến thiên (khoảng cách giữa giá trị nhỏ nhất và lớn nhất) lớn hơn. Điều này có nghĩa là trong nhóm đã click vào quảng cáo, có cả những người trẻ tuổi và những người lớn tuổi, trong khi nhóm chưa click có thể tập trung nhiều hơn vào một độ tuổi nhất định.\n",
        "    <br><br>\n",
        "    <strong>Giá trị ngoại lệ:</strong> Cả hai nhóm đều có một số giá trị ngoại lệ, tức là những điểm dữ liệu nằm xa so với phần còn lại. Điều này cho thấy có một số người rất trẻ hoặc rất lớn tuổi đã click vào quảng cáo, và cũng có một số người trẻ hoặc lớn tuổi không click vào quảng cáo.\n",
        "</p>"
      ],
      "metadata": {
        "id": "my7k64X9V7Kc"
      }
    },
    {
      "cell_type": "markdown",
      "source": [
        "**Mối quan hệ giữa \"Clicked on Ad\" và thu nhập (Area Income)**"
      ],
      "metadata": {
        "id": "f-L7-IgpXKct"
      }
    },
    {
      "cell_type": "code",
      "source": [
        "sns.set_palette(\"pastel\")\n",
        "# Vẽ scatter plot để quan sát mối quan hệ giữa thu nhập và việc click quảng cáo\n",
        "plt.figure(figsize=(8, 6))\n",
        "sns.scatterplot(x='Area Income', y='Age', hue='Clicked on Ad', data=df, palette='pastel')\n",
        "\n",
        "# Thêm tiêu đề và nhãn cho biểu đồ\n",
        "plt.title('Mối quan hệ giữa thu nhập và việc click quảng cáo', fontsize=14, fontweight='bold', pad=20)\n",
        "plt.xlabel('Thu nhập khu vực (Area Income)', fontsize=12, labelpad=15)\n",
        "plt.ylabel('Độ tuổi', fontsize=12)\n",
        "\n",
        "# Hiển thị biểu đồ\n",
        "plt.show()\n"
      ],
      "metadata": {
        "id": "py2Tgt48WlxS"
      },
      "execution_count": null,
      "outputs": []
    },
    {
      "cell_type": "markdown",
      "source": [
        "<h2 style=\"color: #4CAF50;\">Nhận xét tổng quan</h2>\n",
        "<p style=\"color: #333333; font-size: 18px;\">\n",
        "    Biểu đồ phân tán cho thấy mối quan hệ giữa thu nhập của một cá nhân và hành vi click vào quảng cáo của họ. Mỗi điểm trên biểu đồ đại diện cho một cá nhân, với vị trí trên trục hoành thể hiện thu nhập và vị trí trên trục tung thể hiện độ tuổi. Các điểm có màu sắc khác nhau để phân biệt những người đã click vào quảng cáo (màu cam) và những người chưa click (màu xanh).\n",
        "    <br><br>\n",
        "    <strong>Không có mối quan hệ tuyến tính rõ ràng:</strong> Các điểm dữ liệu phân bố khá đều trên biểu đồ, không có xu hướng tăng hoặc giảm rõ ràng khi thu nhập tăng lên. Điều này cho thấy không có mối quan hệ tuyến tính trực tiếp giữa thu nhập và việc click quảng cáo.\n",
        "    <br><br>\n",
        "    <strong>Sự phân tán dữ liệu:</strong> Các điểm dữ liệu phân tán khá rộng, cả trong nhóm đã click và chưa click. Điều này cho thấy có nhiều yếu tố khác ngoài thu nhập ảnh hưởng đến hành vi click quảng cáo.\n",
        "    <br><br>\n",
        "    <strong>Sự chồng lấp giữa hai nhóm:</strong> Các điểm dữ liệu của hai nhóm (đã click và chưa click) chồng lấp lên nhau khá nhiều, cho thấy không có sự phân chia rõ ràng giữa hai nhóm dựa trên thu nhập.\n",
        "</p>\n"
      ],
      "metadata": {
        "id": "4GSqEHs5YscK"
      }
    },
    {
      "cell_type": "markdown",
      "source": [
        "**Mối quan hệ giữa \"Clicked on Ad\" và giới tính (Male)**"
      ],
      "metadata": {
        "id": "9kPujM7NX8gg"
      }
    },
    {
      "cell_type": "code",
      "source": [
        "# Dùng count plot để quan sát tỷ lệ click quảng cáo theo giới tính\n",
        "plt.figure(figsize=(8, 6))\n",
        "ax = sns.countplot(x='Male', hue='Clicked on Ad', data=df)\n",
        "\n",
        "# Thêm tiêu đề và nhãn cho biểu đồ\n",
        "plt.title('Tỷ lệ click quảng cáo theo giới tính', fontsize=14, fontweight='bold', pad=20)\n",
        "plt.xlabel('Giới tính (Male)', fontsize=12,labelpad=15)\n",
        "plt.ylabel('Số lượng người dùng', fontsize=12, labelpad=15)\n",
        "\n",
        "# Hiển thị số lượng trên cột\n",
        "for p in ax.patches:\n",
        "    ax.annotate(f'{p.get_height()}', (p.get_x() + p.get_width() / 2., p.get_height()), ha='center', va='baseline', fontsize=12, color='black', xytext=(0, 5), textcoords='offset points')\n",
        "# Hiển thị biểu đồ\n",
        "plt.show()\n"
      ],
      "metadata": {
        "id": "6K4fIheeYACx"
      },
      "execution_count": null,
      "outputs": []
    },
    {
      "cell_type": "markdown",
      "source": [
        "<h2 style=\"color: #4CAF50;\">Nhận xét tổng quan</h2>\n",
        "<p style=\"color: #333333; font-size: 18px;\">\n",
        "    Biểu đồ cột trên hiển thị số lượng người dùng đã và chưa click vào quảng cáo, phân chia theo giới tính (giả sử 0 là nữ, 1 là nam).\n",
        "    <br><br>\n",
        "    <strong>Sự khác biệt giữa hai giới:</strong>\n",
        "    <br>\n",
        "    <strong>Phái nữ:</strong> Có một số lượng lớn phái nữ tham gia khảo sát, và một phần đáng kể trong số đó đã click vào quảng cáo.\n",
        "    <br>\n",
        "    <strong>Phái nam:</strong> Tương tự, phái nam cũng có số lượng tham gia lớn và tỷ lệ click vào quảng cáo cũng khá cao.\n",
        "</p>\n",
        "\n",
        "<h2 style=\"color: #4CAF50;\">Kết luận</h2>\n",
        "<p style=\"color: #333333; font-size: 18px;\">\n",
        "    <strong>Không có sự khác biệt rõ rệt về tỷ lệ click:</strong> Cả nam và nữ đều có tỷ lệ click vào quảng cáo tương đối cao và không có sự chênh lệch quá lớn giữa hai giới. Điều này cho thấy, về mặt giới tính, không có nhóm nào đặc biệt quan tâm hoặc không quan tâm đến quảng cáo hơn.\n",
        "</p>\n"
      ],
      "metadata": {
        "id": "dOLDy5qqbGJy"
      }
    },
    {
      "cell_type": "markdown",
      "source": [
        "**Kiểm tra sự tương quan giữa các biến độc lập và biến mục tiêu (Correlation Heatmap)**"
      ],
      "metadata": {
        "id": "OL0OuFkJbkEW"
      }
    },
    {
      "cell_type": "code",
      "source": [
        "sns.set_palette(\"pastel\")\n",
        "# Chọn các cột phù hợp với biến độc lập và biến mục tiêu\n",
        "correlation_data = df[['Age', 'Area Income', 'Male', 'Clicked on Ad']]\n",
        "\n",
        "# Tính ma trận tương quan\n",
        "correlation_matrix = correlation_data.corr()\n",
        "\n",
        "# Vẽ heatmap của ma trận tương quan\n",
        "plt.figure(figsize=(8, 6))\n",
        "sns.heatmap(correlation_matrix, annot=True, cmap='coolwarm', linewidths=0.5)\n",
        "\n",
        "# Thêm tiêu đề cho heatmap\n",
        "plt.title('Ma trận tương quan giữa các biến', fontsize=14, fontweight='bold', pad=20)\n",
        "\n",
        "# Hiển thị heatmap\n",
        "plt.show()\n"
      ],
      "metadata": {
        "id": "dcnPq38abWH2"
      },
      "execution_count": null,
      "outputs": []
    },
    {
      "cell_type": "markdown",
      "source": [
        "Ma trận tương quan là một công cụ hữu ích để đánh giá mối quan hệ tuyến tính giữa các biến số trong một tập dữ liệu. Mỗi ô trong ma trận cho biết mức độ tương quan giữa hai biến tương ứng. Giá trị hệ số tương quan dao động từ -1 đến 1:\n",
        "\n",
        "1: Hai biến có mối quan hệ tương quan dương hoàn hảo (khi một biến tăng, biến kia cũng tăng).\n",
        "\n",
        "-1: Hai biến có mối quan hệ tương quan âm hoàn hảo (khi một biến tăng, biến kia giảm).\n",
        "\n",
        "0: Hai biến không có mối quan hệ tuyến tính.\n",
        "<h2 style=\"color: #4CAF50;\">Nhận xét</h2>\n",
        "<p style=\"color: #333333; font-size: 18px;\">\n",
        "    <strong>Tuổi và việc click vào quảng cáo:</strong> Có mối quan hệ tương quan dương vừa phải (0.5). Điều này có nghĩa là khi tuổi tăng lên, khả năng người dùng click vào quảng cáo cũng có xu hướng tăng lên.\n",
        "    <br><br>\n",
        "    <strong>Thu nhập và việc click vào quảng cáo:</strong> Có mối quan hệ tương quan âm vừa phải (-0.48). Điều này có nghĩa là khi thu nhập tăng lên, khả năng người dùng click vào quảng cáo có xu hướng giảm đi.\n",
        "    <br><br>\n",
        "    <strong>Giới tính và các biến khác:</strong> Giới tính (Male) có mối tương quan rất thấp với các biến còn lại, cho thấy giới tính ít ảnh hưởng đến tuổi, thu nhập và hành vi click vào quảng cáo trong tập dữ liệu này.\n",
        "    <br><br>\n",
        "    <strong>Các biến khác:</strong> Các biến còn lại có mối tương quan rất thấp hoặc không có mối quan hệ tuyến tính với nhau.\n",
        "</p>\n",
        "\n",
        "<h2 style=\"color: #4CAF50;\">Kết luận</h2>\n",
        "<p style=\"color: #333333; font-size: 18px;\">\n",
        "    <strong>Tuổi tác là yếu tố có ảnh hưởng tích cực đến hành vi click vào quảng cáo:</strong> Người lớn tuổi có xu hướng click vào quảng cáo nhiều hơn so với người trẻ tuổi.\n",
        "    <br><br>\n",
        "    <strong>Thu nhập có ảnh hưởng tiêu cực đến hành vi click vào quảng cáo:</strong> Người có thu nhập cao có xu hướng click vào quảng cáo ít hơn so với người có thu nhập thấp.\n",
        "    <br><br>\n",
        "    <strong>Giới tính không phải là yếu tố quyết định:</strong> Giới tính không có mối liên hệ rõ ràng với hành vi click vào quảng cáo trong tập dữ liệu này.\n",
        "</p>\n"
      ],
      "metadata": {
        "id": "5qFhgILCcyw3"
      }
    }
  ]
}